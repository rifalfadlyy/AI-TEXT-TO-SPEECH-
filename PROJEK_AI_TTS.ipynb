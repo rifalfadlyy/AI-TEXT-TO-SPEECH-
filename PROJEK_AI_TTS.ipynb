{
  "nbformat": 4,
  "nbformat_minor": 0,
  "metadata": {
    "colab": {
      "provenance": [],
      "authorship_tag": "ABX9TyN/X/eL2g+4U7VY6EkqxJYB",
      "include_colab_link": true
    },
    "kernelspec": {
      "name": "python3",
      "display_name": "Python 3"
    },
    "language_info": {
      "name": "python"
    }
  },
  "cells": [
    {
      "cell_type": "markdown",
      "metadata": {
        "id": "view-in-github",
        "colab_type": "text"
      },
      "source": [
        "<a href=\"https://colab.research.google.com/github/rifalfadlyy/AI-TEXT-TO-SPEECH-/blob/main/PROJEK_AI_TTS.ipynb\" target=\"_parent\"><img src=\"https://colab.research.google.com/assets/colab-badge.svg\" alt=\"Open In Colab\"/></a>"
      ]
    },
    {
      "cell_type": "code",
      "source": [
        "#@title konek ke google drive\n",
        "from google.colab import drive\n",
        "drive.mount('/content/drive')"
      ],
      "metadata": {
        "id": "fze3cb0BdzWa"
      },
      "execution_count": null,
      "outputs": []
    },
    {
      "cell_type": "code",
      "source": [
        "#@title Install tools ai\n",
        "!python -m pip install -U pip wheel\n",
        "!pip install -U ipython\n",
        "!pip install -U so-vits-svc-fork\n",
        "!pip install edge-tts\n",
        "!pip install audiosegment"
      ],
      "metadata": {
        "id": "dP6tq1m5d_wI"
      },
      "execution_count": null,
      "outputs": []
    },
    {
      "cell_type": "code",
      "source": [
        "\n",
        "#@title engine AI text to speech\n",
        "#@markdown don't give space on any folder/file name on the path\n",
        "import subprocess\n",
        "import audiosegment\n",
        "from IPython.display import Audio, display\n",
        "\n",
        "jenis suara = \"Female\" #@param [\"Male\", \"Female\"]\n",
        "masukan teks= \"Ripal Ganteng\" #@param {type:\"string\"}\n",
        "\n",
        "if gender == \"Male\":\n",
        "  command = ['edge-tts', '--voice', 'id-ID-ArdiNeural', '--text', text, '--write-media', 'edge.mp3', '--write-subtitles', 'edge.vtt']\n",
        "  result = subprocess.run(command, stdout=subprocess.PIPE, text=True)\n",
        "  print(result.stdout)\n",
        "elif gender == \"Female\":\n",
        "  command = ['edge-tts', '--voice', 'id-ID-GadisNeural', '--text', text, '--write-media', 'edge.mp3', '--write-subtitles', 'edge.vtt']\n",
        "  result = subprocess.run(command, stdout=subprocess.PIPE, text=True)\n",
        "  print(result.stdout)\n",
        "\n",
        "try:\n",
        "  display(Audio(\"edge.mp3\", autoplay=True))\n",
        "except Exception as e:  print(\"Error:\", str(e))\n",
        "\n",
        "audio = audiosegment.from_file(\"edge.mp3\")\n",
        "\n",
        "# Set the output format to WAV\n",
        "audio = audio.set_sample_width(2)\n",
        "audio = audio.set_frame_rate(44100)\n",
        "audio = audio.set_channels(1)\n",
        "\n",
        "# Export the audio to WAV format\n",
        "audio.export(\"edge-conv.wav\", format='wav')\n",
        "\n",
        "AUDIO = \"/content/edge-conv\" #@param {type:\"string\"}\n",
        "MODEL = \"/content/so-vits-test/alice.pth\" #@param {type:\"string\"}\n",
        "CONFIG = \"/content/so-vits-test/config.json\" #@param {type:\"string\"}\n",
        "METHOD = \"harvest\" #@param [\"harvest\", \"dio\", \"crepe\", \"crepe-tiny\", \"parselmouth\"]\n",
        "PITCH = 0 #@param {type:\"slider\", min:-12, max:12, step:1}\n",
        "\n",
        "# Auto Pitch Mode\n",
        "!svc infer {AUDIO}.wav -c {CONFIG} -m {MODEL} -fm {METHOD}\n",
        "\n",
        "# Manual Pitch Mode\n",
        "# !svc infer {AUDIO}.wav -c {CONFIG} -m {MODEL} -fm {METHOD} -na -t {PITCH}\n",
        "\n",
        "# Try comment this line below if you got Runtime Error\n",
        "try:\n",
        "  display(Audio(f\"{AUDIO}.out.wav\", autoplay=True))\n",
        "except Exception as e:  print(\"Error:\", str(e))"
      ],
      "metadata": {
        "id": "0ZDgx20beZ3-"
      },
      "execution_count": null,
      "outputs": []
    }
  ]
}